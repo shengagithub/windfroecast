{
  "nbformat": 4,
  "nbformat_minor": 0,
  "metadata": {
    "accelerator": "GPU",
    "colab": {
      "name": "SCADA_2.ipynb",
      "provenance": [],
      "collapsed_sections": []
    },
    "kernelspec": {
      "display_name": "Python 3",
      "name": "python3"
    },
    "language_info": {
      "name": "python"
    }
  },
  "cells": [
    {
      "cell_type": "code",
      "metadata": {
        "id": "Sj5wjAflZDG4"
      },
      "source": [
        "import pandas as pd\n",
        "pd.set_option('display.max_rows', 1000)\n",
        "pd.set_option('display.max_columns', 500)\n",
        "pd.set_option('display.width', 1000)\n",
        "pd.set_option('max_colwidth', 800)\n",
        "from collections import Counter\n",
        "import numpy as np"
      ],
      "execution_count": 1,
      "outputs": []
    },
    {
      "cell_type": "code",
      "metadata": {
        "colab": {
          "base_uri": "https://localhost:8080/"
        },
        "id": "Dt22gwduO90x",
        "outputId": "a8df3379-6ecb-407e-9066-c95b88a86a21"
      },
      "source": [
        "!pip uninstall -y xgboost\n",
        "!pip uninstall -y scikit-learn"
      ],
      "execution_count": 2,
      "outputs": [
        {
          "output_type": "stream",
          "text": [
            "Uninstalling xgboost-1.3.3:\n",
            "  Successfully uninstalled xgboost-1.3.3\n",
            "Uninstalling scikit-learn-0.24.1:\n",
            "  Successfully uninstalled scikit-learn-0.24.1\n"
          ],
          "name": "stdout"
        }
      ]
    },
    {
      "cell_type": "code",
      "metadata": {
        "colab": {
          "base_uri": "https://localhost:8080/"
        },
        "id": "1vUf-ryxPK10",
        "outputId": "651cfdd7-21d0-4383-a56c-38ab6a651adc"
      },
      "source": [
        "!pip install xgboost\n",
        "!pip install scikit-learn"
      ],
      "execution_count": 3,
      "outputs": [
        {
          "output_type": "stream",
          "text": [
            "Collecting xgboost\n",
            "  Using cached https://files.pythonhosted.org/packages/2e/57/bf5026701c384decd2b995eb39d86587a103ba4eb26f8a9b1811db0896d3/xgboost-1.3.3-py3-none-manylinux2010_x86_64.whl\n",
            "Requirement already satisfied: numpy in /usr/local/lib/python3.7/dist-packages (from xgboost) (1.19.5)\n",
            "Requirement already satisfied: scipy in /usr/local/lib/python3.7/dist-packages (from xgboost) (1.4.1)\n",
            "Installing collected packages: xgboost\n",
            "Successfully installed xgboost-1.3.3\n",
            "Collecting scikit-learn\n",
            "  Using cached https://files.pythonhosted.org/packages/f3/74/eb899f41d55f957e2591cde5528e75871f817d9fb46d4732423ecaca736d/scikit_learn-0.24.1-cp37-cp37m-manylinux2010_x86_64.whl\n",
            "Requirement already satisfied: joblib>=0.11 in /usr/local/lib/python3.7/dist-packages (from scikit-learn) (1.0.1)\n",
            "Requirement already satisfied: scipy>=0.19.1 in /usr/local/lib/python3.7/dist-packages (from scikit-learn) (1.4.1)\n",
            "Requirement already satisfied: threadpoolctl>=2.0.0 in /usr/local/lib/python3.7/dist-packages (from scikit-learn) (2.1.0)\n",
            "Requirement already satisfied: numpy>=1.13.3 in /usr/local/lib/python3.7/dist-packages (from scikit-learn) (1.19.5)\n",
            "Installing collected packages: scikit-learn\n",
            "Successfully installed scikit-learn-0.24.1\n"
          ],
          "name": "stdout"
        }
      ]
    },
    {
      "cell_type": "code",
      "metadata": {
        "id": "2MuHS3dmZXPm"
      },
      "source": [
        "df = pd.read_csv('SCADA_data.csv')\n",
        "df['Inverter avg. temp'] = df[['CS101 : Sys 1 inverter 1 cabinet temp.',\n",
        "                          'CS101 : Sys 1 inverter 2 cabinet temp.', \n",
        "                          'CS101 : Sys 1 inverter 3 cabinet temp.', \n",
        "                          'CS101 : Sys 1 inverter 4 cabinet temp.', \n",
        "                          'CS101 : Sys 1 inverter 5 cabinet temp.', \n",
        "                          'CS101 : Sys 1 inverter 6 cabinet temp.', \n",
        "                          'CS101 : Sys 1 inverter 7 cabinet temp.',\n",
        "                          'CS101 : Sys 2 inverter 1 cabinet temp.', \n",
        "                          'CS101 : Sys 2 inverter 2 cabinet temp.',  \n",
        "                          'CS101 : Sys 2 inverter 3 cabinet temp.',\n",
        "                          'CS101 : Sys 2 inverter 4 cabinet temp.']].mean(axis=1)\n",
        "df['Inverter std. temp'] = df[['CS101 : Sys 1 inverter 1 cabinet temp.',\n",
        "                         'CS101 : Sys 1 inverter 2 cabinet temp.', \n",
        "                         'CS101 : Sys 1 inverter 3 cabinet temp.', \n",
        "                         'CS101 : Sys 1 inverter 4 cabinet temp.', \n",
        "                         'CS101 : Sys 1 inverter 5 cabinet temp.', \n",
        "                         'CS101 : Sys 1 inverter 6 cabinet temp.', \n",
        "                         'CS101 : Sys 1 inverter 7 cabinet temp.',\n",
        "                         'CS101 : Sys 2 inverter 1 cabinet temp.', \n",
        "                         'CS101 : Sys 2 inverter 2 cabinet temp.',  \n",
        "                         'CS101 : Sys 2 inverter 3 cabinet temp.',\n",
        "                         'CS101 : Sys 2 inverter 4 cabinet temp.']].std(axis=1)"
      ],
      "execution_count": 4,
      "outputs": []
    },
    {
      "cell_type": "code",
      "metadata": {
        "id": "FFdZWqjcZYaW"
      },
      "source": [
        "df['Time'] = pd.to_datetime(df['Time'], dayfirst=True, errors='coerce')\n",
        "df.sort_values(by='Time', axis=0, inplace=True)\n",
        "df.reset_index(drop=True, inplace=True)"
      ],
      "execution_count": 5,
      "outputs": []
    },
    {
      "cell_type": "code",
      "metadata": {
        "id": "2zdLhjozZdXI"
      },
      "source": [
        "df.rename(columns={\"Error\": \"Fault\"}, inplace=True)"
      ],
      "execution_count": 6,
      "outputs": []
    },
    {
      "cell_type": "code",
      "metadata": {
        "id": "38-i7R6KZdsc"
      },
      "source": [
        "status_data_wec = pd.read_csv('status_data_wec.csv')\n",
        "af_corr_time_wec_s = status_data_wec.loc[(status_data_wec['Main Status']==62)|(status_data_wec['Main Status']==80)|\n",
        "                                         (status_data_wec['Main Status']==228)|(status_data_wec['Main Status']==60)|\n",
        "                                         (status_data_wec['Main Status']==9),\n",
        "                                         'Time']"
      ],
      "execution_count": 7,
      "outputs": []
    },
    {
      "cell_type": "code",
      "metadata": {
        "id": "bYxJWmanZfWo"
      },
      "source": [
        "af_corr_time_wec_s = pd.to_datetime(af_corr_time_wec_s)\n",
        "af_corr_time_wes = af_corr_time_wec_s.round('10min')"
      ],
      "execution_count": 8,
      "outputs": []
    },
    {
      "cell_type": "code",
      "metadata": {
        "id": "hFzlTmGMZgaZ",
        "colab": {
          "base_uri": "https://localhost:8080/"
        },
        "outputId": "8f4afd30-0096-441c-c50f-b66b4ff3a859"
      },
      "source": [
        "df['Fault'] = [0] * len(df)\n",
        "for i, d in enumerate(df['Time']):\n",
        "    if d in af_corr_time_wes.values:\n",
        "        df['Fault'][i] = 1"
      ],
      "execution_count": 9,
      "outputs": [
        {
          "output_type": "stream",
          "text": [
            "/usr/local/lib/python3.7/dist-packages/ipykernel_launcher.py:4: SettingWithCopyWarning: \n",
            "A value is trying to be set on a copy of a slice from a DataFrame\n",
            "\n",
            "See the caveats in the documentation: https://pandas.pydata.org/pandas-docs/stable/user_guide/indexing.html#returning-a-view-versus-a-copy\n",
            "  after removing the cwd from sys.path.\n"
          ],
          "name": "stderr"
        }
      ]
    },
    {
      "cell_type": "code",
      "metadata": {
        "id": "6vYWo9JqZhc9"
      },
      "source": [
        "nf_times = []\n",
        "rul = []\n",
        "for i, d in enumerate(df['Fault']):\n",
        "    nf_times.append(df['Time'][i])\n",
        "    if d == 1:\n",
        "        for j in nf_times:\n",
        "            rul.append(df['Time'][i] - j)\n",
        "        nf_times = []    "
      ],
      "execution_count": 10,
      "outputs": []
    },
    {
      "cell_type": "code",
      "metadata": {
        "id": "yEL_DYoJZipW"
      },
      "source": [
        "rul_seconds = [x.total_seconds() for x in rul]\n",
        "rul_hours = [x//3600 for x in rul_seconds]\n",
        "rul_days = [x.days for x in rul]\n",
        "\n",
        "df_trimmed = df.head(len(rul))"
      ],
      "execution_count": 11,
      "outputs": []
    },
    {
      "cell_type": "code",
      "metadata": {
        "id": "Wkd8HVd0Zke7",
        "colab": {
          "base_uri": "https://localhost:8080/"
        },
        "outputId": "83d4b89b-3ea4-4163-b03a-5523c5b33bb6"
      },
      "source": [
        "df_trimmed['RUL'] = rul_days"
      ],
      "execution_count": 14,
      "outputs": [
        {
          "output_type": "stream",
          "text": [
            "/usr/local/lib/python3.7/dist-packages/ipykernel_launcher.py:1: SettingWithCopyWarning: \n",
            "A value is trying to be set on a copy of a slice from a DataFrame.\n",
            "Try using .loc[row_indexer,col_indexer] = value instead\n",
            "\n",
            "See the caveats in the documentation: https://pandas.pydata.org/pandas-docs/stable/user_guide/indexing.html#returning-a-view-versus-a-copy\n",
            "  \"\"\"Entry point for launching an IPython kernel.\n"
          ],
          "name": "stderr"
        }
      ]
    },
    {
      "cell_type": "code",
      "metadata": {
        "id": "nc_c9G8BZpON",
        "colab": {
          "base_uri": "https://localhost:8080/"
        },
        "outputId": "d09bba12-0391-4c26-9c43-ae3367765d52"
      },
      "source": [
        "cols_to_drop = ['Fault',\n",
        "                'CS101 : Sys 1 inverter 1 cabinet temp.',\n",
        "                'CS101 : Sys 1 inverter 2 cabinet temp.', \n",
        "                'CS101 : Sys 1 inverter 3 cabinet temp.', \n",
        "                'CS101 : Sys 1 inverter 4 cabinet temp.', \n",
        "                'CS101 : Sys 1 inverter 5 cabinet temp.', \n",
        "                'CS101 : Sys 1 inverter 6 cabinet temp.', \n",
        "                'CS101 : Sys 1 inverter 7 cabinet temp.',\n",
        "                'CS101 : Sys 2 inverter 1 cabinet temp.', \n",
        "                'CS101 : Sys 2 inverter 2 cabinet temp.',  \n",
        "                'CS101 : Sys 2 inverter 3 cabinet temp.',\n",
        "                'CS101 : Sys 2 inverter 4 cabinet temp.']\n",
        "\n",
        "for i in cols_to_drop:\n",
        "  if i in list(df):\n",
        "    df_trimmed.drop(i, axis=1, inplace=True)                "
      ],
      "execution_count": 15,
      "outputs": [
        {
          "output_type": "stream",
          "text": [
            "/usr/local/lib/python3.7/dist-packages/pandas/core/frame.py:4174: SettingWithCopyWarning: \n",
            "A value is trying to be set on a copy of a slice from a DataFrame\n",
            "\n",
            "See the caveats in the documentation: https://pandas.pydata.org/pandas-docs/stable/user_guide/indexing.html#returning-a-view-versus-a-copy\n",
            "  errors=errors,\n"
          ],
          "name": "stderr"
        }
      ]
    },
    {
      "cell_type": "code",
      "metadata": {
        "id": "I57ecRPJZrEK"
      },
      "source": [
        "df_trimmed.set_index('Time', inplace=True)"
      ],
      "execution_count": 16,
      "outputs": []
    },
    {
      "cell_type": "code",
      "metadata": {
        "id": "ViGHszuzZtY_"
      },
      "source": [
        "timesteps = 5\n",
        "\n",
        "df_trimmed = df_trimmed.head(39298)\n",
        "df = df_trimmed.copy()\n",
        "features = df.columns.tolist()\n",
        "\n",
        "df_list = [df[features].shift(shift_val) if (shift_val == 0) \n",
        "                                else df[features].shift(-shift_val).add_suffix(f'_{shift_val}') \n",
        "                                for shift_val in range(0,timesteps)]"
      ],
      "execution_count": 17,
      "outputs": []
    },
    {
      "cell_type": "code",
      "metadata": {
        "id": "9J8H8fk6ZzrG"
      },
      "source": [
        "df_concat = pd.concat(df_list, axis=1, sort=False)\n",
        "df_concat = df_concat.iloc[:-timesteps,:]"
      ],
      "execution_count": 18,
      "outputs": []
    },
    {
      "cell_type": "code",
      "metadata": {
        "id": "uGk_5KcjZ02r"
      },
      "source": [
        "from sklearn.model_selection import train_test_split\n",
        "\n",
        "target = 'RUL'\n",
        "x_train, x_test, y_train, y_test = train_test_split(df_concat, \n",
        "                                                    df[target].iloc[:-timesteps], \n",
        "                                                    test_size = 0.02642894598,\n",
        "                                                    random_state=10, shuffle=False) "
      ],
      "execution_count": 19,
      "outputs": []
    },
    {
      "cell_type": "code",
      "metadata": {
        "colab": {
          "base_uri": "https://localhost:8080/"
        },
        "id": "JDPTpFB8Z7Ve",
        "outputId": "af37112e-9e8c-42d2-87b2-7eb07e849325"
      },
      "source": [
        "import xgboost as xgb\n",
        "from sklearn.metrics import mean_squared_error as MSE, mean_absolute_error as MAE\n",
        "from sklearn.model_selection import TimeSeriesSplit\n",
        "from sklearn.model_selection import RandomizedSearchCV\n",
        "\n",
        "xgbr = xgb.XGBRegressor()\n",
        "\n",
        "param_grid = {\n",
        "        'max_depth': [6, 10, 15, 20],\n",
        "        'learning_rate': [0.001, 0.01, 0.1, 0.2, 0,3],\n",
        "        'subsample': [0.5, 0.6, 0.7, 0.8, 0.9, 1.0],\n",
        "        'colsample_bytree': [0.4, 0.5, 0.6, 0.7, 0.8, 0.9, 1.0],\n",
        "        'colsample_bylevel': [0.4, 0.5, 0.6, 0.7, 0.8, 0.9, 1.0],\n",
        "        'min_child_weight': [0.5, 1.0, 3.0, 5.0, 7.0, 10.0],\n",
        "        'gamma': [0, 0.25, 0.5, 1.0],\n",
        "        'reg_lambda': [0.1, 1.0, 5.0, 10.0, 50.0, 100.0],\n",
        "        'n_estimators': [30, 40, 50, 60, 70, 90, 80, 100],\n",
        "        'objective': ['reg:squarederror']\n",
        "        }\n",
        "\n",
        "rf_xgb = RandomizedSearchCV(xgbr, \n",
        "                            param_grid,\n",
        "                            cv = 5,\n",
        "                            n_jobs=1)\n",
        "\n",
        "rf_xgb.fit(x_train, y_train)\n",
        "  \n",
        "# Predict the model\n",
        "y_pred = rf_xgb.predict(x_test)\n",
        "  \n",
        "# RMSE Computation\n",
        "rmse = np.sqrt(MSE(y_test, y_pred))\n",
        "print(\"RMSE : % f\" %(rmse))"
      ],
      "execution_count": 20,
      "outputs": [
        {
          "output_type": "stream",
          "text": [
            "RMSE :  0.033964\n"
          ],
          "name": "stdout"
        }
      ]
    },
    {
      "cell_type": "code",
      "metadata": {
        "colab": {
          "base_uri": "https://localhost:8080/",
          "height": 282
        },
        "id": "9SKV0zgwZ92B",
        "outputId": "9c3832c4-2932-4578-90cd-486365fd2f20"
      },
      "source": [
        "df_out = pd.DataFrame()\n",
        "df_out['true'] = np.ravel(y_test.values)\n",
        "df_out['pred'] = y_pred\n",
        "\n",
        "df_out.plot()"
      ],
      "execution_count": 21,
      "outputs": [
        {
          "output_type": "execute_result",
          "data": {
            "text/plain": [
              "<matplotlib.axes._subplots.AxesSubplot at 0x7fc60c6b4d90>"
            ]
          },
          "metadata": {
            "tags": []
          },
          "execution_count": 21
        },
        {
          "output_type": "display_data",
          "data": {
            "image/png": "[encoded data removed]",
            "text/plain": [
              "<Figure size 432x288 with 1 Axes>"
            ]
          },
          "metadata": {
            "tags": [],
            "needs_background": "light"
          }
        }
      ]
    },
    {
      "cell_type": "code",
      "metadata": {
        "id": "csfNUqpSrpUc"
      },
      "source": [
        "import pickle\n",
        "pickle.dump(rf_xgb, open(\"xgb_reg.pkl\", \"wb\"))"
      ],
      "execution_count": 22,
      "outputs": []
    },
    {
      "cell_type": "code",
      "metadata": {
        "id": "svq96RDMUbpc"
      },
      "source": [
        ""
      ],
      "execution_count": null,
      "outputs": []
    }
  ]
}